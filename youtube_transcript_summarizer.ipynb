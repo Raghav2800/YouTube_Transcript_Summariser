{
  "nbformat": 4,
  "nbformat_minor": 0,
  "metadata": {
    "colab": {
      "provenance": [],
      "authorship_tag": "ABX9TyNlR5U4avLyJGeAaiXAJTIM",
      "include_colab_link": true
    },
    "kernelspec": {
      "name": "python3",
      "display_name": "Python 3"
    },
    "language_info": {
      "name": "python"
    },
    "widgets": {
      "application/vnd.jupyter.widget-state+json": {
        "f502a16510cd4f749dca6c913ceb7798": {
          "model_module": "@jupyter-widgets/controls",
          "model_name": "HBoxModel",
          "model_module_version": "1.5.0",
          "state": {
            "_dom_classes": [],
            "_model_module": "@jupyter-widgets/controls",
            "_model_module_version": "1.5.0",
            "_model_name": "HBoxModel",
            "_view_count": null,
            "_view_module": "@jupyter-widgets/controls",
            "_view_module_version": "1.5.0",
            "_view_name": "HBoxView",
            "box_style": "",
            "children": [
              "IPY_MODEL_429d2d8acc8c4ca98504f6168bc72fa1",
              "IPY_MODEL_c9ab07f4ac484b4fac83799f172ae698",
              "IPY_MODEL_54bf5e261eb34cf1955cdeea145a481d"
            ],
            "layout": "IPY_MODEL_707ceb1bce7f4ff0ab95fabf1de70dbf"
          }
        },
        "429d2d8acc8c4ca98504f6168bc72fa1": {
          "model_module": "@jupyter-widgets/controls",
          "model_name": "HTMLModel",
          "model_module_version": "1.5.0",
          "state": {
            "_dom_classes": [],
            "_model_module": "@jupyter-widgets/controls",
            "_model_module_version": "1.5.0",
            "_model_name": "HTMLModel",
            "_view_count": null,
            "_view_module": "@jupyter-widgets/controls",
            "_view_module_version": "1.5.0",
            "_view_name": "HTMLView",
            "description": "",
            "description_tooltip": null,
            "layout": "IPY_MODEL_e0fe394bf2774465af6e88b2035628b8",
            "placeholder": "​",
            "style": "IPY_MODEL_699becbbe27d48539eff10bdd1877af6",
            "value": "Downloading (…)lve/main/config.json: 100%"
          }
        },
        "c9ab07f4ac484b4fac83799f172ae698": {
          "model_module": "@jupyter-widgets/controls",
          "model_name": "FloatProgressModel",
          "model_module_version": "1.5.0",
          "state": {
            "_dom_classes": [],
            "_model_module": "@jupyter-widgets/controls",
            "_model_module_version": "1.5.0",
            "_model_name": "FloatProgressModel",
            "_view_count": null,
            "_view_module": "@jupyter-widgets/controls",
            "_view_module_version": "1.5.0",
            "_view_name": "ProgressView",
            "bar_style": "success",
            "description": "",
            "description_tooltip": null,
            "layout": "IPY_MODEL_f858b537b4c54a67b2ffef55b6d74e9e",
            "max": 1802,
            "min": 0,
            "orientation": "horizontal",
            "style": "IPY_MODEL_531c9e272d39479ba8f869a4e87360b7",
            "value": 1802
          }
        },
        "54bf5e261eb34cf1955cdeea145a481d": {
          "model_module": "@jupyter-widgets/controls",
          "model_name": "HTMLModel",
          "model_module_version": "1.5.0",
          "state": {
            "_dom_classes": [],
            "_model_module": "@jupyter-widgets/controls",
            "_model_module_version": "1.5.0",
            "_model_name": "HTMLModel",
            "_view_count": null,
            "_view_module": "@jupyter-widgets/controls",
            "_view_module_version": "1.5.0",
            "_view_name": "HTMLView",
            "description": "",
            "description_tooltip": null,
            "layout": "IPY_MODEL_6f5ba811619148ec8e41f65572778a1a",
            "placeholder": "​",
            "style": "IPY_MODEL_4d3634ae2b854393ba47acd7f2c548d2",
            "value": " 1.80k/1.80k [00:00&lt;00:00, 48.4kB/s]"
          }
        },
        "707ceb1bce7f4ff0ab95fabf1de70dbf": {
          "model_module": "@jupyter-widgets/base",
          "model_name": "LayoutModel",
          "model_module_version": "1.2.0",
          "state": {
            "_model_module": "@jupyter-widgets/base",
            "_model_module_version": "1.2.0",
            "_model_name": "LayoutModel",
            "_view_count": null,
            "_view_module": "@jupyter-widgets/base",
            "_view_module_version": "1.2.0",
            "_view_name": "LayoutView",
            "align_content": null,
            "align_items": null,
            "align_self": null,
            "border": null,
            "bottom": null,
            "display": null,
            "flex": null,
            "flex_flow": null,
            "grid_area": null,
            "grid_auto_columns": null,
            "grid_auto_flow": null,
            "grid_auto_rows": null,
            "grid_column": null,
            "grid_gap": null,
            "grid_row": null,
            "grid_template_areas": null,
            "grid_template_columns": null,
            "grid_template_rows": null,
            "height": null,
            "justify_content": null,
            "justify_items": null,
            "left": null,
            "margin": null,
            "max_height": null,
            "max_width": null,
            "min_height": null,
            "min_width": null,
            "object_fit": null,
            "object_position": null,
            "order": null,
            "overflow": null,
            "overflow_x": null,
            "overflow_y": null,
            "padding": null,
            "right": null,
            "top": null,
            "visibility": null,
            "width": null
          }
        },
        "e0fe394bf2774465af6e88b2035628b8": {
          "model_module": "@jupyter-widgets/base",
          "model_name": "LayoutModel",
          "model_module_version": "1.2.0",
          "state": {
            "_model_module": "@jupyter-widgets/base",
            "_model_module_version": "1.2.0",
            "_model_name": "LayoutModel",
            "_view_count": null,
            "_view_module": "@jupyter-widgets/base",
            "_view_module_version": "1.2.0",
            "_view_name": "LayoutView",
            "align_content": null,
            "align_items": null,
            "align_self": null,
            "border": null,
            "bottom": null,
            "display": null,
            "flex": null,
            "flex_flow": null,
            "grid_area": null,
            "grid_auto_columns": null,
            "grid_auto_flow": null,
            "grid_auto_rows": null,
            "grid_column": null,
            "grid_gap": null,
            "grid_row": null,
            "grid_template_areas": null,
            "grid_template_columns": null,
            "grid_template_rows": null,
            "height": null,
            "justify_content": null,
            "justify_items": null,
            "left": null,
            "margin": null,
            "max_height": null,
            "max_width": null,
            "min_height": null,
            "min_width": null,
            "object_fit": null,
            "object_position": null,
            "order": null,
            "overflow": null,
            "overflow_x": null,
            "overflow_y": null,
            "padding": null,
            "right": null,
            "top": null,
            "visibility": null,
            "width": null
          }
        },
        "699becbbe27d48539eff10bdd1877af6": {
          "model_module": "@jupyter-widgets/controls",
          "model_name": "DescriptionStyleModel",
          "model_module_version": "1.5.0",
          "state": {
            "_model_module": "@jupyter-widgets/controls",
            "_model_module_version": "1.5.0",
            "_model_name": "DescriptionStyleModel",
            "_view_count": null,
            "_view_module": "@jupyter-widgets/base",
            "_view_module_version": "1.2.0",
            "_view_name": "StyleView",
            "description_width": ""
          }
        },
        "f858b537b4c54a67b2ffef55b6d74e9e": {
          "model_module": "@jupyter-widgets/base",
          "model_name": "LayoutModel",
          "model_module_version": "1.2.0",
          "state": {
            "_model_module": "@jupyter-widgets/base",
            "_model_module_version": "1.2.0",
            "_model_name": "LayoutModel",
            "_view_count": null,
            "_view_module": "@jupyter-widgets/base",
            "_view_module_version": "1.2.0",
            "_view_name": "LayoutView",
            "align_content": null,
            "align_items": null,
            "align_self": null,
            "border": null,
            "bottom": null,
            "display": null,
            "flex": null,
            "flex_flow": null,
            "grid_area": null,
            "grid_auto_columns": null,
            "grid_auto_flow": null,
            "grid_auto_rows": null,
            "grid_column": null,
            "grid_gap": null,
            "grid_row": null,
            "grid_template_areas": null,
            "grid_template_columns": null,
            "grid_template_rows": null,
            "height": null,
            "justify_content": null,
            "justify_items": null,
            "left": null,
            "margin": null,
            "max_height": null,
            "max_width": null,
            "min_height": null,
            "min_width": null,
            "object_fit": null,
            "object_position": null,
            "order": null,
            "overflow": null,
            "overflow_x": null,
            "overflow_y": null,
            "padding": null,
            "right": null,
            "top": null,
            "visibility": null,
            "width": null
          }
        },
        "531c9e272d39479ba8f869a4e87360b7": {
          "model_module": "@jupyter-widgets/controls",
          "model_name": "ProgressStyleModel",
          "model_module_version": "1.5.0",
          "state": {
            "_model_module": "@jupyter-widgets/controls",
            "_model_module_version": "1.5.0",
            "_model_name": "ProgressStyleModel",
            "_view_count": null,
            "_view_module": "@jupyter-widgets/base",
            "_view_module_version": "1.2.0",
            "_view_name": "StyleView",
            "bar_color": null,
            "description_width": ""
          }
        },
        "6f5ba811619148ec8e41f65572778a1a": {
          "model_module": "@jupyter-widgets/base",
          "model_name": "LayoutModel",
          "model_module_version": "1.2.0",
          "state": {
            "_model_module": "@jupyter-widgets/base",
            "_model_module_version": "1.2.0",
            "_model_name": "LayoutModel",
            "_view_count": null,
            "_view_module": "@jupyter-widgets/base",
            "_view_module_version": "1.2.0",
            "_view_name": "LayoutView",
            "align_content": null,
            "align_items": null,
            "align_self": null,
            "border": null,
            "bottom": null,
            "display": null,
            "flex": null,
            "flex_flow": null,
            "grid_area": null,
            "grid_auto_columns": null,
            "grid_auto_flow": null,
            "grid_auto_rows": null,
            "grid_column": null,
            "grid_gap": null,
            "grid_row": null,
            "grid_template_areas": null,
            "grid_template_columns": null,
            "grid_template_rows": null,
            "height": null,
            "justify_content": null,
            "justify_items": null,
            "left": null,
            "margin": null,
            "max_height": null,
            "max_width": null,
            "min_height": null,
            "min_width": null,
            "object_fit": null,
            "object_position": null,
            "order": null,
            "overflow": null,
            "overflow_x": null,
            "overflow_y": null,
            "padding": null,
            "right": null,
            "top": null,
            "visibility": null,
            "width": null
          }
        },
        "4d3634ae2b854393ba47acd7f2c548d2": {
          "model_module": "@jupyter-widgets/controls",
          "model_name": "DescriptionStyleModel",
          "model_module_version": "1.5.0",
          "state": {
            "_model_module": "@jupyter-widgets/controls",
            "_model_module_version": "1.5.0",
            "_model_name": "DescriptionStyleModel",
            "_view_count": null,
            "_view_module": "@jupyter-widgets/base",
            "_view_module_version": "1.2.0",
            "_view_name": "StyleView",
            "description_width": ""
          }
        },
        "4219c653ce8446e193bdbd165f87d263": {
          "model_module": "@jupyter-widgets/controls",
          "model_name": "HBoxModel",
          "model_module_version": "1.5.0",
          "state": {
            "_dom_classes": [],
            "_model_module": "@jupyter-widgets/controls",
            "_model_module_version": "1.5.0",
            "_model_name": "HBoxModel",
            "_view_count": null,
            "_view_module": "@jupyter-widgets/controls",
            "_view_module_version": "1.5.0",
            "_view_name": "HBoxView",
            "box_style": "",
            "children": [
              "IPY_MODEL_800514cb96e4464da9d899959491d3dd",
              "IPY_MODEL_df0216c4ed584b96aa28e6dc939515be",
              "IPY_MODEL_1d0663029a6f47d48213401e25afb211"
            ],
            "layout": "IPY_MODEL_a231c58e320547f297977c634416d0f6"
          }
        },
        "800514cb96e4464da9d899959491d3dd": {
          "model_module": "@jupyter-widgets/controls",
          "model_name": "HTMLModel",
          "model_module_version": "1.5.0",
          "state": {
            "_dom_classes": [],
            "_model_module": "@jupyter-widgets/controls",
            "_model_module_version": "1.5.0",
            "_model_name": "HTMLModel",
            "_view_count": null,
            "_view_module": "@jupyter-widgets/controls",
            "_view_module_version": "1.5.0",
            "_view_name": "HTMLView",
            "description": "",
            "description_tooltip": null,
            "layout": "IPY_MODEL_4da2a1ea7a4e4ed8887c46436d004993",
            "placeholder": "​",
            "style": "IPY_MODEL_5a65720488f94409bbd11909a4912070",
            "value": "Downloading pytorch_model.bin: 100%"
          }
        },
        "df0216c4ed584b96aa28e6dc939515be": {
          "model_module": "@jupyter-widgets/controls",
          "model_name": "FloatProgressModel",
          "model_module_version": "1.5.0",
          "state": {
            "_dom_classes": [],
            "_model_module": "@jupyter-widgets/controls",
            "_model_module_version": "1.5.0",
            "_model_name": "FloatProgressModel",
            "_view_count": null,
            "_view_module": "@jupyter-widgets/controls",
            "_view_module_version": "1.5.0",
            "_view_name": "ProgressView",
            "bar_style": "success",
            "description": "",
            "description_tooltip": null,
            "layout": "IPY_MODEL_97310849317049628895cd337d3de1f4",
            "max": 1222317369,
            "min": 0,
            "orientation": "horizontal",
            "style": "IPY_MODEL_84ad107e127e426294ea9b8a6f05a8ce",
            "value": 1222317369
          }
        },
        "1d0663029a6f47d48213401e25afb211": {
          "model_module": "@jupyter-widgets/controls",
          "model_name": "HTMLModel",
          "model_module_version": "1.5.0",
          "state": {
            "_dom_classes": [],
            "_model_module": "@jupyter-widgets/controls",
            "_model_module_version": "1.5.0",
            "_model_name": "HTMLModel",
            "_view_count": null,
            "_view_module": "@jupyter-widgets/controls",
            "_view_module_version": "1.5.0",
            "_view_name": "HTMLView",
            "description": "",
            "description_tooltip": null,
            "layout": "IPY_MODEL_8b906bee378a4a369ef48b5a36655423",
            "placeholder": "​",
            "style": "IPY_MODEL_b751f645ee8941d489709600484261fe",
            "value": " 1.22G/1.22G [00:11&lt;00:00, 153MB/s]"
          }
        },
        "a231c58e320547f297977c634416d0f6": {
          "model_module": "@jupyter-widgets/base",
          "model_name": "LayoutModel",
          "model_module_version": "1.2.0",
          "state": {
            "_model_module": "@jupyter-widgets/base",
            "_model_module_version": "1.2.0",
            "_model_name": "LayoutModel",
            "_view_count": null,
            "_view_module": "@jupyter-widgets/base",
            "_view_module_version": "1.2.0",
            "_view_name": "LayoutView",
            "align_content": null,
            "align_items": null,
            "align_self": null,
            "border": null,
            "bottom": null,
            "display": null,
            "flex": null,
            "flex_flow": null,
            "grid_area": null,
            "grid_auto_columns": null,
            "grid_auto_flow": null,
            "grid_auto_rows": null,
            "grid_column": null,
            "grid_gap": null,
            "grid_row": null,
            "grid_template_areas": null,
            "grid_template_columns": null,
            "grid_template_rows": null,
            "height": null,
            "justify_content": null,
            "justify_items": null,
            "left": null,
            "margin": null,
            "max_height": null,
            "max_width": null,
            "min_height": null,
            "min_width": null,
            "object_fit": null,
            "object_position": null,
            "order": null,
            "overflow": null,
            "overflow_x": null,
            "overflow_y": null,
            "padding": null,
            "right": null,
            "top": null,
            "visibility": null,
            "width": null
          }
        },
        "4da2a1ea7a4e4ed8887c46436d004993": {
          "model_module": "@jupyter-widgets/base",
          "model_name": "LayoutModel",
          "model_module_version": "1.2.0",
          "state": {
            "_model_module": "@jupyter-widgets/base",
            "_model_module_version": "1.2.0",
            "_model_name": "LayoutModel",
            "_view_count": null,
            "_view_module": "@jupyter-widgets/base",
            "_view_module_version": "1.2.0",
            "_view_name": "LayoutView",
            "align_content": null,
            "align_items": null,
            "align_self": null,
            "border": null,
            "bottom": null,
            "display": null,
            "flex": null,
            "flex_flow": null,
            "grid_area": null,
            "grid_auto_columns": null,
            "grid_auto_flow": null,
            "grid_auto_rows": null,
            "grid_column": null,
            "grid_gap": null,
            "grid_row": null,
            "grid_template_areas": null,
            "grid_template_columns": null,
            "grid_template_rows": null,
            "height": null,
            "justify_content": null,
            "justify_items": null,
            "left": null,
            "margin": null,
            "max_height": null,
            "max_width": null,
            "min_height": null,
            "min_width": null,
            "object_fit": null,
            "object_position": null,
            "order": null,
            "overflow": null,
            "overflow_x": null,
            "overflow_y": null,
            "padding": null,
            "right": null,
            "top": null,
            "visibility": null,
            "width": null
          }
        },
        "5a65720488f94409bbd11909a4912070": {
          "model_module": "@jupyter-widgets/controls",
          "model_name": "DescriptionStyleModel",
          "model_module_version": "1.5.0",
          "state": {
            "_model_module": "@jupyter-widgets/controls",
            "_model_module_version": "1.5.0",
            "_model_name": "DescriptionStyleModel",
            "_view_count": null,
            "_view_module": "@jupyter-widgets/base",
            "_view_module_version": "1.2.0",
            "_view_name": "StyleView",
            "description_width": ""
          }
        },
        "97310849317049628895cd337d3de1f4": {
          "model_module": "@jupyter-widgets/base",
          "model_name": "LayoutModel",
          "model_module_version": "1.2.0",
          "state": {
            "_model_module": "@jupyter-widgets/base",
            "_model_module_version": "1.2.0",
            "_model_name": "LayoutModel",
            "_view_count": null,
            "_view_module": "@jupyter-widgets/base",
            "_view_module_version": "1.2.0",
            "_view_name": "LayoutView",
            "align_content": null,
            "align_items": null,
            "align_self": null,
            "border": null,
            "bottom": null,
            "display": null,
            "flex": null,
            "flex_flow": null,
            "grid_area": null,
            "grid_auto_columns": null,
            "grid_auto_flow": null,
            "grid_auto_rows": null,
            "grid_column": null,
            "grid_gap": null,
            "grid_row": null,
            "grid_template_areas": null,
            "grid_template_columns": null,
            "grid_template_rows": null,
            "height": null,
            "justify_content": null,
            "justify_items": null,
            "left": null,
            "margin": null,
            "max_height": null,
            "max_width": null,
            "min_height": null,
            "min_width": null,
            "object_fit": null,
            "object_position": null,
            "order": null,
            "overflow": null,
            "overflow_x": null,
            "overflow_y": null,
            "padding": null,
            "right": null,
            "top": null,
            "visibility": null,
            "width": null
          }
        },
        "84ad107e127e426294ea9b8a6f05a8ce": {
          "model_module": "@jupyter-widgets/controls",
          "model_name": "ProgressStyleModel",
          "model_module_version": "1.5.0",
          "state": {
            "_model_module": "@jupyter-widgets/controls",
            "_model_module_version": "1.5.0",
            "_model_name": "ProgressStyleModel",
            "_view_count": null,
            "_view_module": "@jupyter-widgets/base",
            "_view_module_version": "1.2.0",
            "_view_name": "StyleView",
            "bar_color": null,
            "description_width": ""
          }
        },
        "8b906bee378a4a369ef48b5a36655423": {
          "model_module": "@jupyter-widgets/base",
          "model_name": "LayoutModel",
          "model_module_version": "1.2.0",
          "state": {
            "_model_module": "@jupyter-widgets/base",
            "_model_module_version": "1.2.0",
            "_model_name": "LayoutModel",
            "_view_count": null,
            "_view_module": "@jupyter-widgets/base",
            "_view_module_version": "1.2.0",
            "_view_name": "LayoutView",
            "align_content": null,
            "align_items": null,
            "align_self": null,
            "border": null,
            "bottom": null,
            "display": null,
            "flex": null,
            "flex_flow": null,
            "grid_area": null,
            "grid_auto_columns": null,
            "grid_auto_flow": null,
            "grid_auto_rows": null,
            "grid_column": null,
            "grid_gap": null,
            "grid_row": null,
            "grid_template_areas": null,
            "grid_template_columns": null,
            "grid_template_rows": null,
            "height": null,
            "justify_content": null,
            "justify_items": null,
            "left": null,
            "margin": null,
            "max_height": null,
            "max_width": null,
            "min_height": null,
            "min_width": null,
            "object_fit": null,
            "object_position": null,
            "order": null,
            "overflow": null,
            "overflow_x": null,
            "overflow_y": null,
            "padding": null,
            "right": null,
            "top": null,
            "visibility": null,
            "width": null
          }
        },
        "b751f645ee8941d489709600484261fe": {
          "model_module": "@jupyter-widgets/controls",
          "model_name": "DescriptionStyleModel",
          "model_module_version": "1.5.0",
          "state": {
            "_model_module": "@jupyter-widgets/controls",
            "_model_module_version": "1.5.0",
            "_model_name": "DescriptionStyleModel",
            "_view_count": null,
            "_view_module": "@jupyter-widgets/base",
            "_view_module_version": "1.2.0",
            "_view_name": "StyleView",
            "description_width": ""
          }
        },
        "0c52f05a11fe42d88455cd4b6a9f4122": {
          "model_module": "@jupyter-widgets/controls",
          "model_name": "HBoxModel",
          "model_module_version": "1.5.0",
          "state": {
            "_dom_classes": [],
            "_model_module": "@jupyter-widgets/controls",
            "_model_module_version": "1.5.0",
            "_model_name": "HBoxModel",
            "_view_count": null,
            "_view_module": "@jupyter-widgets/controls",
            "_view_module_version": "1.5.0",
            "_view_name": "HBoxView",
            "box_style": "",
            "children": [
              "IPY_MODEL_8532d5db5ca94471b905e56209f63935",
              "IPY_MODEL_9d1001edf0f24fccb501c494f07685a6",
              "IPY_MODEL_70db034324b144f4af32f77753604ade"
            ],
            "layout": "IPY_MODEL_6b9469b935044a1bba9df6511c89fcf4"
          }
        },
        "8532d5db5ca94471b905e56209f63935": {
          "model_module": "@jupyter-widgets/controls",
          "model_name": "HTMLModel",
          "model_module_version": "1.5.0",
          "state": {
            "_dom_classes": [],
            "_model_module": "@jupyter-widgets/controls",
            "_model_module_version": "1.5.0",
            "_model_name": "HTMLModel",
            "_view_count": null,
            "_view_module": "@jupyter-widgets/controls",
            "_view_module_version": "1.5.0",
            "_view_name": "HTMLView",
            "description": "",
            "description_tooltip": null,
            "layout": "IPY_MODEL_e6ad3b3fffbd4f068bec573b8302f1af",
            "placeholder": "​",
            "style": "IPY_MODEL_6231411e59f9472198fb43d62e4a8628",
            "value": "Downloading (…)okenizer_config.json: 100%"
          }
        },
        "9d1001edf0f24fccb501c494f07685a6": {
          "model_module": "@jupyter-widgets/controls",
          "model_name": "FloatProgressModel",
          "model_module_version": "1.5.0",
          "state": {
            "_dom_classes": [],
            "_model_module": "@jupyter-widgets/controls",
            "_model_module_version": "1.5.0",
            "_model_name": "FloatProgressModel",
            "_view_count": null,
            "_view_module": "@jupyter-widgets/controls",
            "_view_module_version": "1.5.0",
            "_view_name": "ProgressView",
            "bar_style": "success",
            "description": "",
            "description_tooltip": null,
            "layout": "IPY_MODEL_36e960c170c847dfb37bc9d655b84596",
            "max": 26,
            "min": 0,
            "orientation": "horizontal",
            "style": "IPY_MODEL_1f2b8b0cec6c471a9391f18fef53f394",
            "value": 26
          }
        },
        "70db034324b144f4af32f77753604ade": {
          "model_module": "@jupyter-widgets/controls",
          "model_name": "HTMLModel",
          "model_module_version": "1.5.0",
          "state": {
            "_dom_classes": [],
            "_model_module": "@jupyter-widgets/controls",
            "_model_module_version": "1.5.0",
            "_model_name": "HTMLModel",
            "_view_count": null,
            "_view_module": "@jupyter-widgets/controls",
            "_view_module_version": "1.5.0",
            "_view_name": "HTMLView",
            "description": "",
            "description_tooltip": null,
            "layout": "IPY_MODEL_a984cc0f1d964ab49dff58ff295a339b",
            "placeholder": "​",
            "style": "IPY_MODEL_d3c7f7b397cd45369ac4a539875d5a2b",
            "value": " 26.0/26.0 [00:00&lt;00:00, 1.45kB/s]"
          }
        },
        "6b9469b935044a1bba9df6511c89fcf4": {
          "model_module": "@jupyter-widgets/base",
          "model_name": "LayoutModel",
          "model_module_version": "1.2.0",
          "state": {
            "_model_module": "@jupyter-widgets/base",
            "_model_module_version": "1.2.0",
            "_model_name": "LayoutModel",
            "_view_count": null,
            "_view_module": "@jupyter-widgets/base",
            "_view_module_version": "1.2.0",
            "_view_name": "LayoutView",
            "align_content": null,
            "align_items": null,
            "align_self": null,
            "border": null,
            "bottom": null,
            "display": null,
            "flex": null,
            "flex_flow": null,
            "grid_area": null,
            "grid_auto_columns": null,
            "grid_auto_flow": null,
            "grid_auto_rows": null,
            "grid_column": null,
            "grid_gap": null,
            "grid_row": null,
            "grid_template_areas": null,
            "grid_template_columns": null,
            "grid_template_rows": null,
            "height": null,
            "justify_content": null,
            "justify_items": null,
            "left": null,
            "margin": null,
            "max_height": null,
            "max_width": null,
            "min_height": null,
            "min_width": null,
            "object_fit": null,
            "object_position": null,
            "order": null,
            "overflow": null,
            "overflow_x": null,
            "overflow_y": null,
            "padding": null,
            "right": null,
            "top": null,
            "visibility": null,
            "width": null
          }
        },
        "e6ad3b3fffbd4f068bec573b8302f1af": {
          "model_module": "@jupyter-widgets/base",
          "model_name": "LayoutModel",
          "model_module_version": "1.2.0",
          "state": {
            "_model_module": "@jupyter-widgets/base",
            "_model_module_version": "1.2.0",
            "_model_name": "LayoutModel",
            "_view_count": null,
            "_view_module": "@jupyter-widgets/base",
            "_view_module_version": "1.2.0",
            "_view_name": "LayoutView",
            "align_content": null,
            "align_items": null,
            "align_self": null,
            "border": null,
            "bottom": null,
            "display": null,
            "flex": null,
            "flex_flow": null,
            "grid_area": null,
            "grid_auto_columns": null,
            "grid_auto_flow": null,
            "grid_auto_rows": null,
            "grid_column": null,
            "grid_gap": null,
            "grid_row": null,
            "grid_template_areas": null,
            "grid_template_columns": null,
            "grid_template_rows": null,
            "height": null,
            "justify_content": null,
            "justify_items": null,
            "left": null,
            "margin": null,
            "max_height": null,
            "max_width": null,
            "min_height": null,
            "min_width": null,
            "object_fit": null,
            "object_position": null,
            "order": null,
            "overflow": null,
            "overflow_x": null,
            "overflow_y": null,
            "padding": null,
            "right": null,
            "top": null,
            "visibility": null,
            "width": null
          }
        },
        "6231411e59f9472198fb43d62e4a8628": {
          "model_module": "@jupyter-widgets/controls",
          "model_name": "DescriptionStyleModel",
          "model_module_version": "1.5.0",
          "state": {
            "_model_module": "@jupyter-widgets/controls",
            "_model_module_version": "1.5.0",
            "_model_name": "DescriptionStyleModel",
            "_view_count": null,
            "_view_module": "@jupyter-widgets/base",
            "_view_module_version": "1.2.0",
            "_view_name": "StyleView",
            "description_width": ""
          }
        },
        "36e960c170c847dfb37bc9d655b84596": {
          "model_module": "@jupyter-widgets/base",
          "model_name": "LayoutModel",
          "model_module_version": "1.2.0",
          "state": {
            "_model_module": "@jupyter-widgets/base",
            "_model_module_version": "1.2.0",
            "_model_name": "LayoutModel",
            "_view_count": null,
            "_view_module": "@jupyter-widgets/base",
            "_view_module_version": "1.2.0",
            "_view_name": "LayoutView",
            "align_content": null,
            "align_items": null,
            "align_self": null,
            "border": null,
            "bottom": null,
            "display": null,
            "flex": null,
            "flex_flow": null,
            "grid_area": null,
            "grid_auto_columns": null,
            "grid_auto_flow": null,
            "grid_auto_rows": null,
            "grid_column": null,
            "grid_gap": null,
            "grid_row": null,
            "grid_template_areas": null,
            "grid_template_columns": null,
            "grid_template_rows": null,
            "height": null,
            "justify_content": null,
            "justify_items": null,
            "left": null,
            "margin": null,
            "max_height": null,
            "max_width": null,
            "min_height": null,
            "min_width": null,
            "object_fit": null,
            "object_position": null,
            "order": null,
            "overflow": null,
            "overflow_x": null,
            "overflow_y": null,
            "padding": null,
            "right": null,
            "top": null,
            "visibility": null,
            "width": null
          }
        },
        "1f2b8b0cec6c471a9391f18fef53f394": {
          "model_module": "@jupyter-widgets/controls",
          "model_name": "ProgressStyleModel",
          "model_module_version": "1.5.0",
          "state": {
            "_model_module": "@jupyter-widgets/controls",
            "_model_module_version": "1.5.0",
            "_model_name": "ProgressStyleModel",
            "_view_count": null,
            "_view_module": "@jupyter-widgets/base",
            "_view_module_version": "1.2.0",
            "_view_name": "StyleView",
            "bar_color": null,
            "description_width": ""
          }
        },
        "a984cc0f1d964ab49dff58ff295a339b": {
          "model_module": "@jupyter-widgets/base",
          "model_name": "LayoutModel",
          "model_module_version": "1.2.0",
          "state": {
            "_model_module": "@jupyter-widgets/base",
            "_model_module_version": "1.2.0",
            "_model_name": "LayoutModel",
            "_view_count": null,
            "_view_module": "@jupyter-widgets/base",
            "_view_module_version": "1.2.0",
            "_view_name": "LayoutView",
            "align_content": null,
            "align_items": null,
            "align_self": null,
            "border": null,
            "bottom": null,
            "display": null,
            "flex": null,
            "flex_flow": null,
            "grid_area": null,
            "grid_auto_columns": null,
            "grid_auto_flow": null,
            "grid_auto_rows": null,
            "grid_column": null,
            "grid_gap": null,
            "grid_row": null,
            "grid_template_areas": null,
            "grid_template_columns": null,
            "grid_template_rows": null,
            "height": null,
            "justify_content": null,
            "justify_items": null,
            "left": null,
            "margin": null,
            "max_height": null,
            "max_width": null,
            "min_height": null,
            "min_width": null,
            "object_fit": null,
            "object_position": null,
            "order": null,
            "overflow": null,
            "overflow_x": null,
            "overflow_y": null,
            "padding": null,
            "right": null,
            "top": null,
            "visibility": null,
            "width": null
          }
        },
        "d3c7f7b397cd45369ac4a539875d5a2b": {
          "model_module": "@jupyter-widgets/controls",
          "model_name": "DescriptionStyleModel",
          "model_module_version": "1.5.0",
          "state": {
            "_model_module": "@jupyter-widgets/controls",
            "_model_module_version": "1.5.0",
            "_model_name": "DescriptionStyleModel",
            "_view_count": null,
            "_view_module": "@jupyter-widgets/base",
            "_view_module_version": "1.2.0",
            "_view_name": "StyleView",
            "description_width": ""
          }
        },
        "f99588488aee4dcea0a96d761db09246": {
          "model_module": "@jupyter-widgets/controls",
          "model_name": "HBoxModel",
          "model_module_version": "1.5.0",
          "state": {
            "_dom_classes": [],
            "_model_module": "@jupyter-widgets/controls",
            "_model_module_version": "1.5.0",
            "_model_name": "HBoxModel",
            "_view_count": null,
            "_view_module": "@jupyter-widgets/controls",
            "_view_module_version": "1.5.0",
            "_view_name": "HBoxView",
            "box_style": "",
            "children": [
              "IPY_MODEL_ee997f0e1c7d4707841fa8bacf0c2b10",
              "IPY_MODEL_150f06283b0248578f5e96b4d279506d",
              "IPY_MODEL_1f11358008e94d10b1d0c6cc690dd0bd"
            ],
            "layout": "IPY_MODEL_ea20f32b2f304f04aca8d2bfe977f2ef"
          }
        },
        "ee997f0e1c7d4707841fa8bacf0c2b10": {
          "model_module": "@jupyter-widgets/controls",
          "model_name": "HTMLModel",
          "model_module_version": "1.5.0",
          "state": {
            "_dom_classes": [],
            "_model_module": "@jupyter-widgets/controls",
            "_model_module_version": "1.5.0",
            "_model_name": "HTMLModel",
            "_view_count": null,
            "_view_module": "@jupyter-widgets/controls",
            "_view_module_version": "1.5.0",
            "_view_name": "HTMLView",
            "description": "",
            "description_tooltip": null,
            "layout": "IPY_MODEL_7ecd3b5722ce4ae7beb70fe913fa91e0",
            "placeholder": "​",
            "style": "IPY_MODEL_814235c8736e4e43ac0eb65f4f28feb3",
            "value": "Downloading (…)olve/main/vocab.json: 100%"
          }
        },
        "150f06283b0248578f5e96b4d279506d": {
          "model_module": "@jupyter-widgets/controls",
          "model_name": "FloatProgressModel",
          "model_module_version": "1.5.0",
          "state": {
            "_dom_classes": [],
            "_model_module": "@jupyter-widgets/controls",
            "_model_module_version": "1.5.0",
            "_model_name": "FloatProgressModel",
            "_view_count": null,
            "_view_module": "@jupyter-widgets/controls",
            "_view_module_version": "1.5.0",
            "_view_name": "ProgressView",
            "bar_style": "success",
            "description": "",
            "description_tooltip": null,
            "layout": "IPY_MODEL_8a4c40917256453cbe0e8c4507838e5c",
            "max": 898822,
            "min": 0,
            "orientation": "horizontal",
            "style": "IPY_MODEL_762e73dca5a74ed4829bf727dcb1d324",
            "value": 898822
          }
        },
        "1f11358008e94d10b1d0c6cc690dd0bd": {
          "model_module": "@jupyter-widgets/controls",
          "model_name": "HTMLModel",
          "model_module_version": "1.5.0",
          "state": {
            "_dom_classes": [],
            "_model_module": "@jupyter-widgets/controls",
            "_model_module_version": "1.5.0",
            "_model_name": "HTMLModel",
            "_view_count": null,
            "_view_module": "@jupyter-widgets/controls",
            "_view_module_version": "1.5.0",
            "_view_name": "HTMLView",
            "description": "",
            "description_tooltip": null,
            "layout": "IPY_MODEL_8ceab4444781451eab686f677a76f8b5",
            "placeholder": "​",
            "style": "IPY_MODEL_f4228ed7df13409dbc4bbd0e69b477ba",
            "value": " 899k/899k [00:00&lt;00:00, 3.49MB/s]"
          }
        },
        "ea20f32b2f304f04aca8d2bfe977f2ef": {
          "model_module": "@jupyter-widgets/base",
          "model_name": "LayoutModel",
          "model_module_version": "1.2.0",
          "state": {
            "_model_module": "@jupyter-widgets/base",
            "_model_module_version": "1.2.0",
            "_model_name": "LayoutModel",
            "_view_count": null,
            "_view_module": "@jupyter-widgets/base",
            "_view_module_version": "1.2.0",
            "_view_name": "LayoutView",
            "align_content": null,
            "align_items": null,
            "align_self": null,
            "border": null,
            "bottom": null,
            "display": null,
            "flex": null,
            "flex_flow": null,
            "grid_area": null,
            "grid_auto_columns": null,
            "grid_auto_flow": null,
            "grid_auto_rows": null,
            "grid_column": null,
            "grid_gap": null,
            "grid_row": null,
            "grid_template_areas": null,
            "grid_template_columns": null,
            "grid_template_rows": null,
            "height": null,
            "justify_content": null,
            "justify_items": null,
            "left": null,
            "margin": null,
            "max_height": null,
            "max_width": null,
            "min_height": null,
            "min_width": null,
            "object_fit": null,
            "object_position": null,
            "order": null,
            "overflow": null,
            "overflow_x": null,
            "overflow_y": null,
            "padding": null,
            "right": null,
            "top": null,
            "visibility": null,
            "width": null
          }
        },
        "7ecd3b5722ce4ae7beb70fe913fa91e0": {
          "model_module": "@jupyter-widgets/base",
          "model_name": "LayoutModel",
          "model_module_version": "1.2.0",
          "state": {
            "_model_module": "@jupyter-widgets/base",
            "_model_module_version": "1.2.0",
            "_model_name": "LayoutModel",
            "_view_count": null,
            "_view_module": "@jupyter-widgets/base",
            "_view_module_version": "1.2.0",
            "_view_name": "LayoutView",
            "align_content": null,
            "align_items": null,
            "align_self": null,
            "border": null,
            "bottom": null,
            "display": null,
            "flex": null,
            "flex_flow": null,
            "grid_area": null,
            "grid_auto_columns": null,
            "grid_auto_flow": null,
            "grid_auto_rows": null,
            "grid_column": null,
            "grid_gap": null,
            "grid_row": null,
            "grid_template_areas": null,
            "grid_template_columns": null,
            "grid_template_rows": null,
            "height": null,
            "justify_content": null,
            "justify_items": null,
            "left": null,
            "margin": null,
            "max_height": null,
            "max_width": null,
            "min_height": null,
            "min_width": null,
            "object_fit": null,
            "object_position": null,
            "order": null,
            "overflow": null,
            "overflow_x": null,
            "overflow_y": null,
            "padding": null,
            "right": null,
            "top": null,
            "visibility": null,
            "width": null
          }
        },
        "814235c8736e4e43ac0eb65f4f28feb3": {
          "model_module": "@jupyter-widgets/controls",
          "model_name": "DescriptionStyleModel",
          "model_module_version": "1.5.0",
          "state": {
            "_model_module": "@jupyter-widgets/controls",
            "_model_module_version": "1.5.0",
            "_model_name": "DescriptionStyleModel",
            "_view_count": null,
            "_view_module": "@jupyter-widgets/base",
            "_view_module_version": "1.2.0",
            "_view_name": "StyleView",
            "description_width": ""
          }
        },
        "8a4c40917256453cbe0e8c4507838e5c": {
          "model_module": "@jupyter-widgets/base",
          "model_name": "LayoutModel",
          "model_module_version": "1.2.0",
          "state": {
            "_model_module": "@jupyter-widgets/base",
            "_model_module_version": "1.2.0",
            "_model_name": "LayoutModel",
            "_view_count": null,
            "_view_module": "@jupyter-widgets/base",
            "_view_module_version": "1.2.0",
            "_view_name": "LayoutView",
            "align_content": null,
            "align_items": null,
            "align_self": null,
            "border": null,
            "bottom": null,
            "display": null,
            "flex": null,
            "flex_flow": null,
            "grid_area": null,
            "grid_auto_columns": null,
            "grid_auto_flow": null,
            "grid_auto_rows": null,
            "grid_column": null,
            "grid_gap": null,
            "grid_row": null,
            "grid_template_areas": null,
            "grid_template_columns": null,
            "grid_template_rows": null,
            "height": null,
            "justify_content": null,
            "justify_items": null,
            "left": null,
            "margin": null,
            "max_height": null,
            "max_width": null,
            "min_height": null,
            "min_width": null,
            "object_fit": null,
            "object_position": null,
            "order": null,
            "overflow": null,
            "overflow_x": null,
            "overflow_y": null,
            "padding": null,
            "right": null,
            "top": null,
            "visibility": null,
            "width": null
          }
        },
        "762e73dca5a74ed4829bf727dcb1d324": {
          "model_module": "@jupyter-widgets/controls",
          "model_name": "ProgressStyleModel",
          "model_module_version": "1.5.0",
          "state": {
            "_model_module": "@jupyter-widgets/controls",
            "_model_module_version": "1.5.0",
            "_model_name": "ProgressStyleModel",
            "_view_count": null,
            "_view_module": "@jupyter-widgets/base",
            "_view_module_version": "1.2.0",
            "_view_name": "StyleView",
            "bar_color": null,
            "description_width": ""
          }
        },
        "8ceab4444781451eab686f677a76f8b5": {
          "model_module": "@jupyter-widgets/base",
          "model_name": "LayoutModel",
          "model_module_version": "1.2.0",
          "state": {
            "_model_module": "@jupyter-widgets/base",
            "_model_module_version": "1.2.0",
            "_model_name": "LayoutModel",
            "_view_count": null,
            "_view_module": "@jupyter-widgets/base",
            "_view_module_version": "1.2.0",
            "_view_name": "LayoutView",
            "align_content": null,
            "align_items": null,
            "align_self": null,
            "border": null,
            "bottom": null,
            "display": null,
            "flex": null,
            "flex_flow": null,
            "grid_area": null,
            "grid_auto_columns": null,
            "grid_auto_flow": null,
            "grid_auto_rows": null,
            "grid_column": null,
            "grid_gap": null,
            "grid_row": null,
            "grid_template_areas": null,
            "grid_template_columns": null,
            "grid_template_rows": null,
            "height": null,
            "justify_content": null,
            "justify_items": null,
            "left": null,
            "margin": null,
            "max_height": null,
            "max_width": null,
            "min_height": null,
            "min_width": null,
            "object_fit": null,
            "object_position": null,
            "order": null,
            "overflow": null,
            "overflow_x": null,
            "overflow_y": null,
            "padding": null,
            "right": null,
            "top": null,
            "visibility": null,
            "width": null
          }
        },
        "f4228ed7df13409dbc4bbd0e69b477ba": {
          "model_module": "@jupyter-widgets/controls",
          "model_name": "DescriptionStyleModel",
          "model_module_version": "1.5.0",
          "state": {
            "_model_module": "@jupyter-widgets/controls",
            "_model_module_version": "1.5.0",
            "_model_name": "DescriptionStyleModel",
            "_view_count": null,
            "_view_module": "@jupyter-widgets/base",
            "_view_module_version": "1.2.0",
            "_view_name": "StyleView",
            "description_width": ""
          }
        },
        "00086d2c4d72479ca96f571e90b5cf3e": {
          "model_module": "@jupyter-widgets/controls",
          "model_name": "HBoxModel",
          "model_module_version": "1.5.0",
          "state": {
            "_dom_classes": [],
            "_model_module": "@jupyter-widgets/controls",
            "_model_module_version": "1.5.0",
            "_model_name": "HBoxModel",
            "_view_count": null,
            "_view_module": "@jupyter-widgets/controls",
            "_view_module_version": "1.5.0",
            "_view_name": "HBoxView",
            "box_style": "",
            "children": [
              "IPY_MODEL_32acdbde34fb47a49b009ceaad96ca27",
              "IPY_MODEL_de7b6763e22943c399b198517341d017",
              "IPY_MODEL_b3422b5eb0914829bf895b08058c4394"
            ],
            "layout": "IPY_MODEL_c9cc7544455c4b1b9fb943846131b8ff"
          }
        },
        "32acdbde34fb47a49b009ceaad96ca27": {
          "model_module": "@jupyter-widgets/controls",
          "model_name": "HTMLModel",
          "model_module_version": "1.5.0",
          "state": {
            "_dom_classes": [],
            "_model_module": "@jupyter-widgets/controls",
            "_model_module_version": "1.5.0",
            "_model_name": "HTMLModel",
            "_view_count": null,
            "_view_module": "@jupyter-widgets/controls",
            "_view_module_version": "1.5.0",
            "_view_name": "HTMLView",
            "description": "",
            "description_tooltip": null,
            "layout": "IPY_MODEL_2aacd505897245999fe843c233a11590",
            "placeholder": "​",
            "style": "IPY_MODEL_55f456b9a06840b3a7dd950fc72d750f",
            "value": "Downloading (…)olve/main/merges.txt: 100%"
          }
        },
        "de7b6763e22943c399b198517341d017": {
          "model_module": "@jupyter-widgets/controls",
          "model_name": "FloatProgressModel",
          "model_module_version": "1.5.0",
          "state": {
            "_dom_classes": [],
            "_model_module": "@jupyter-widgets/controls",
            "_model_module_version": "1.5.0",
            "_model_name": "FloatProgressModel",
            "_view_count": null,
            "_view_module": "@jupyter-widgets/controls",
            "_view_module_version": "1.5.0",
            "_view_name": "ProgressView",
            "bar_style": "success",
            "description": "",
            "description_tooltip": null,
            "layout": "IPY_MODEL_11478134d84246998f93e65af63b4279",
            "max": 456318,
            "min": 0,
            "orientation": "horizontal",
            "style": "IPY_MODEL_9e86084cf12648d4bb108b8c1552735b",
            "value": 456318
          }
        },
        "b3422b5eb0914829bf895b08058c4394": {
          "model_module": "@jupyter-widgets/controls",
          "model_name": "HTMLModel",
          "model_module_version": "1.5.0",
          "state": {
            "_dom_classes": [],
            "_model_module": "@jupyter-widgets/controls",
            "_model_module_version": "1.5.0",
            "_model_name": "HTMLModel",
            "_view_count": null,
            "_view_module": "@jupyter-widgets/controls",
            "_view_module_version": "1.5.0",
            "_view_name": "HTMLView",
            "description": "",
            "description_tooltip": null,
            "layout": "IPY_MODEL_f8e10058ab7143d9823606accdd24108",
            "placeholder": "​",
            "style": "IPY_MODEL_1488a0e5b6f641a4bf35dd7b4af522a9",
            "value": " 456k/456k [00:00&lt;00:00, 2.35MB/s]"
          }
        },
        "c9cc7544455c4b1b9fb943846131b8ff": {
          "model_module": "@jupyter-widgets/base",
          "model_name": "LayoutModel",
          "model_module_version": "1.2.0",
          "state": {
            "_model_module": "@jupyter-widgets/base",
            "_model_module_version": "1.2.0",
            "_model_name": "LayoutModel",
            "_view_count": null,
            "_view_module": "@jupyter-widgets/base",
            "_view_module_version": "1.2.0",
            "_view_name": "LayoutView",
            "align_content": null,
            "align_items": null,
            "align_self": null,
            "border": null,
            "bottom": null,
            "display": null,
            "flex": null,
            "flex_flow": null,
            "grid_area": null,
            "grid_auto_columns": null,
            "grid_auto_flow": null,
            "grid_auto_rows": null,
            "grid_column": null,
            "grid_gap": null,
            "grid_row": null,
            "grid_template_areas": null,
            "grid_template_columns": null,
            "grid_template_rows": null,
            "height": null,
            "justify_content": null,
            "justify_items": null,
            "left": null,
            "margin": null,
            "max_height": null,
            "max_width": null,
            "min_height": null,
            "min_width": null,
            "object_fit": null,
            "object_position": null,
            "order": null,
            "overflow": null,
            "overflow_x": null,
            "overflow_y": null,
            "padding": null,
            "right": null,
            "top": null,
            "visibility": null,
            "width": null
          }
        },
        "2aacd505897245999fe843c233a11590": {
          "model_module": "@jupyter-widgets/base",
          "model_name": "LayoutModel",
          "model_module_version": "1.2.0",
          "state": {
            "_model_module": "@jupyter-widgets/base",
            "_model_module_version": "1.2.0",
            "_model_name": "LayoutModel",
            "_view_count": null,
            "_view_module": "@jupyter-widgets/base",
            "_view_module_version": "1.2.0",
            "_view_name": "LayoutView",
            "align_content": null,
            "align_items": null,
            "align_self": null,
            "border": null,
            "bottom": null,
            "display": null,
            "flex": null,
            "flex_flow": null,
            "grid_area": null,
            "grid_auto_columns": null,
            "grid_auto_flow": null,
            "grid_auto_rows": null,
            "grid_column": null,
            "grid_gap": null,
            "grid_row": null,
            "grid_template_areas": null,
            "grid_template_columns": null,
            "grid_template_rows": null,
            "height": null,
            "justify_content": null,
            "justify_items": null,
            "left": null,
            "margin": null,
            "max_height": null,
            "max_width": null,
            "min_height": null,
            "min_width": null,
            "object_fit": null,
            "object_position": null,
            "order": null,
            "overflow": null,
            "overflow_x": null,
            "overflow_y": null,
            "padding": null,
            "right": null,
            "top": null,
            "visibility": null,
            "width": null
          }
        },
        "55f456b9a06840b3a7dd950fc72d750f": {
          "model_module": "@jupyter-widgets/controls",
          "model_name": "DescriptionStyleModel",
          "model_module_version": "1.5.0",
          "state": {
            "_model_module": "@jupyter-widgets/controls",
            "_model_module_version": "1.5.0",
            "_model_name": "DescriptionStyleModel",
            "_view_count": null,
            "_view_module": "@jupyter-widgets/base",
            "_view_module_version": "1.2.0",
            "_view_name": "StyleView",
            "description_width": ""
          }
        },
        "11478134d84246998f93e65af63b4279": {
          "model_module": "@jupyter-widgets/base",
          "model_name": "LayoutModel",
          "model_module_version": "1.2.0",
          "state": {
            "_model_module": "@jupyter-widgets/base",
            "_model_module_version": "1.2.0",
            "_model_name": "LayoutModel",
            "_view_count": null,
            "_view_module": "@jupyter-widgets/base",
            "_view_module_version": "1.2.0",
            "_view_name": "LayoutView",
            "align_content": null,
            "align_items": null,
            "align_self": null,
            "border": null,
            "bottom": null,
            "display": null,
            "flex": null,
            "flex_flow": null,
            "grid_area": null,
            "grid_auto_columns": null,
            "grid_auto_flow": null,
            "grid_auto_rows": null,
            "grid_column": null,
            "grid_gap": null,
            "grid_row": null,
            "grid_template_areas": null,
            "grid_template_columns": null,
            "grid_template_rows": null,
            "height": null,
            "justify_content": null,
            "justify_items": null,
            "left": null,
            "margin": null,
            "max_height": null,
            "max_width": null,
            "min_height": null,
            "min_width": null,
            "object_fit": null,
            "object_position": null,
            "order": null,
            "overflow": null,
            "overflow_x": null,
            "overflow_y": null,
            "padding": null,
            "right": null,
            "top": null,
            "visibility": null,
            "width": null
          }
        },
        "9e86084cf12648d4bb108b8c1552735b": {
          "model_module": "@jupyter-widgets/controls",
          "model_name": "ProgressStyleModel",
          "model_module_version": "1.5.0",
          "state": {
            "_model_module": "@jupyter-widgets/controls",
            "_model_module_version": "1.5.0",
            "_model_name": "ProgressStyleModel",
            "_view_count": null,
            "_view_module": "@jupyter-widgets/base",
            "_view_module_version": "1.2.0",
            "_view_name": "StyleView",
            "bar_color": null,
            "description_width": ""
          }
        },
        "f8e10058ab7143d9823606accdd24108": {
          "model_module": "@jupyter-widgets/base",
          "model_name": "LayoutModel",
          "model_module_version": "1.2.0",
          "state": {
            "_model_module": "@jupyter-widgets/base",
            "_model_module_version": "1.2.0",
            "_model_name": "LayoutModel",
            "_view_count": null,
            "_view_module": "@jupyter-widgets/base",
            "_view_module_version": "1.2.0",
            "_view_name": "LayoutView",
            "align_content": null,
            "align_items": null,
            "align_self": null,
            "border": null,
            "bottom": null,
            "display": null,
            "flex": null,
            "flex_flow": null,
            "grid_area": null,
            "grid_auto_columns": null,
            "grid_auto_flow": null,
            "grid_auto_rows": null,
            "grid_column": null,
            "grid_gap": null,
            "grid_row": null,
            "grid_template_areas": null,
            "grid_template_columns": null,
            "grid_template_rows": null,
            "height": null,
            "justify_content": null,
            "justify_items": null,
            "left": null,
            "margin": null,
            "max_height": null,
            "max_width": null,
            "min_height": null,
            "min_width": null,
            "object_fit": null,
            "object_position": null,
            "order": null,
            "overflow": null,
            "overflow_x": null,
            "overflow_y": null,
            "padding": null,
            "right": null,
            "top": null,
            "visibility": null,
            "width": null
          }
        },
        "1488a0e5b6f641a4bf35dd7b4af522a9": {
          "model_module": "@jupyter-widgets/controls",
          "model_name": "DescriptionStyleModel",
          "model_module_version": "1.5.0",
          "state": {
            "_model_module": "@jupyter-widgets/controls",
            "_model_module_version": "1.5.0",
            "_model_name": "DescriptionStyleModel",
            "_view_count": null,
            "_view_module": "@jupyter-widgets/base",
            "_view_module_version": "1.2.0",
            "_view_name": "StyleView",
            "description_width": ""
          }
        }
      }
    }
  },
  "cells": [
    {
      "cell_type": "markdown",
      "metadata": {
        "id": "view-in-github",
        "colab_type": "text"
      },
      "source": [
        "<a href=\"https://colab.research.google.com/github/Raghav2800/YouTube_Transcript_Summariser/blob/main/youtube_transcript_summarizer.ipynb\" target=\"_parent\"><img src=\"https://colab.research.google.com/assets/colab-badge.svg\" alt=\"Open In Colab\"/></a>"
      ]
    },
    {
      "cell_type": "code",
      "execution_count": null,
      "metadata": {
        "colab": {
          "base_uri": "https://localhost:8080/"
        },
        "id": "L3D-RijQ5lRh",
        "outputId": "64300567-827b-43ff-b03e-d7b068de4faa"
      },
      "outputs": [
        {
          "output_type": "stream",
          "name": "stdout",
          "text": [
            "\u001b[2K     \u001b[90m━━━━━━━━━━━━━━━━━━━━━━━━━━━━━━━━━━━━━━━━\u001b[0m \u001b[32m7.2/7.2 MB\u001b[0m \u001b[31m65.8 MB/s\u001b[0m eta \u001b[36m0:00:00\u001b[0m\n",
            "\u001b[2K     \u001b[90m━━━━━━━━━━━━━━━━━━━━━━━━━━━━━━━━━━━━━━\u001b[0m \u001b[32m268.8/268.8 kB\u001b[0m \u001b[31m21.9 MB/s\u001b[0m eta \u001b[36m0:00:00\u001b[0m\n",
            "\u001b[2K     \u001b[90m━━━━━━━━━━━━━━━━━━━━━━━━━━━━━━━━━━━━━━━━\u001b[0m \u001b[32m7.8/7.8 MB\u001b[0m \u001b[31m104.1 MB/s\u001b[0m eta \u001b[36m0:00:00\u001b[0m\n",
            "\u001b[2K     \u001b[90m━━━━━━━━━━━━━━━━━━━━━━━━━━━━━━━━━━━━━━━━\u001b[0m \u001b[32m1.3/1.3 MB\u001b[0m \u001b[31m70.9 MB/s\u001b[0m eta \u001b[36m0:00:00\u001b[0m\n",
            "\u001b[?25h"
          ]
        }
      ],
      "source": [
        "!pip install -q transformers\n"
      ]
    },
    {
      "cell_type": "code",
      "source": [
        "!pip install -q youtube_transcript_api"
      ],
      "metadata": {
        "id": "3lVNkmJxK92T"
      },
      "execution_count": null,
      "outputs": []
    },
    {
      "cell_type": "code",
      "source": [
        "from transformers import pipeline\n",
        "from youtube_transcript_api import YouTubeTranscriptApi"
      ],
      "metadata": {
        "id": "RbuL37n06MIb"
      },
      "execution_count": null,
      "outputs": []
    },
    {
      "cell_type": "code",
      "source": [
        "youtube_video = \"https://www.youtube.com/watch?v=KG5YFfR0j8A&list=PLgUwDviBIf0oE3gA41TKO2H5bHpPd7fzn&index=18\""
      ],
      "metadata": {
        "id": "if3PFe4B6ZLD"
      },
      "execution_count": null,
      "outputs": []
    },
    {
      "cell_type": "code",
      "source": [
        "video_id = youtube_video.split(\"=\")[1]"
      ],
      "metadata": {
        "id": "m4ucPNya6f1T"
      },
      "execution_count": null,
      "outputs": []
    },
    {
      "cell_type": "code",
      "source": [
        "video_id"
      ],
      "metadata": {
        "colab": {
          "base_uri": "https://localhost:8080/",
          "height": 35
        },
        "id": "XrQOZ33H6k72",
        "outputId": "c84c380f-fa19-499e-bfa5-6d8970db373b"
      },
      "execution_count": null,
      "outputs": [
        {
          "output_type": "execute_result",
          "data": {
            "text/plain": [
              "'KG5YFfR0j8A&list'"
            ],
            "application/vnd.google.colaboratory.intrinsic+json": {
              "type": "string"
            }
          },
          "metadata": {},
          "execution_count": 3
        }
      ]
    },
    {
      "cell_type": "code",
      "source": [
        "from IPython.display import YouTubeVideo\n",
        "YouTubeVideo(video_id)"
      ],
      "metadata": {
        "colab": {
          "base_uri": "https://localhost:8080/",
          "height": 321
        },
        "id": "ZFGc4K7D6tjK",
        "outputId": "0ae6b4a6-3510-408a-c7ae-a9ca6d6aafbb"
      },
      "execution_count": null,
      "outputs": [
        {
          "output_type": "execute_result",
          "data": {
            "text/plain": [
              "<IPython.lib.display.YouTubeVideo at 0x7850292b1d80>"
            ],
            "text/html": [
              "\n",
              "        <iframe\n",
              "            width=\"400\"\n",
              "            height=\"300\"\n",
              "            src=\"https://www.youtube.com/embed/KG5YFfR0j8A&list\"\n",
              "            frameborder=\"0\"\n",
              "            allowfullscreen\n",
              "            \n",
              "        ></iframe>\n",
              "        "
            ]
          },
          "metadata": {},
          "execution_count": 4
        }
      ]
    },
    {
      "cell_type": "code",
      "source": [
        "YouTubeTranscriptApi.get_transcript(video_id)\n",
        "transcript = YouTubeTranscriptApi.get_transcript(video_id)"
      ],
      "metadata": {
        "id": "8AIdvROM6ypM"
      },
      "execution_count": null,
      "outputs": []
    },
    {
      "cell_type": "code",
      "source": [
        "transcript[0:4]"
      ],
      "metadata": {
        "colab": {
          "base_uri": "https://localhost:8080/"
        },
        "id": "pN9QbB1B628h",
        "outputId": "c7639cf8-a147-4c0a-f991-82baba6275ed"
      },
      "execution_count": null,
      "outputs": [
        {
          "output_type": "execute_result",
          "data": {
            "text/plain": [
              "[{'text': 'hey everyone welcome back to the channel',\n",
              "  'start': 3.199,\n",
              "  'duration': 3.441},\n",
              " {'text': 'i hope you guys are doing extremely well',\n",
              "  'start': 4.799,\n",
              "  'duration': 3.441},\n",
              " {'text': 'so in this video we are going to learn',\n",
              "  'start': 6.64,\n",
              "  'duration': 4.079},\n",
              " {'text': 'about bipartite graph and we are going',\n",
              "  'start': 8.24,\n",
              "  'duration': 4.8}]"
            ]
          },
          "metadata": {},
          "execution_count": 13
        }
      ]
    },
    {
      "cell_type": "code",
      "source": [
        "res = \"\"\n",
        "for i in transcript:\n",
        "    res += ' ' + i['text']\n",
        "#print(res)\n",
        "print(len(res))"
      ],
      "metadata": {
        "colab": {
          "base_uri": "https://localhost:8080/"
        },
        "id": "VB3xsFhj6_ER",
        "outputId": "8eccaa6d-0326-43a9-b723-4ea4fc365b2d"
      },
      "execution_count": null,
      "outputs": [
        {
          "output_type": "stream",
          "name": "stdout",
          "text": [
            "13684\n"
          ]
        }
      ]
    },
    {
      "cell_type": "code",
      "source": [
        "summarizer = pipeline('summarization')"
      ],
      "metadata": {
        "colab": {
          "base_uri": "https://localhost:8080/",
          "height": 211,
          "referenced_widgets": [
            "f502a16510cd4f749dca6c913ceb7798",
            "429d2d8acc8c4ca98504f6168bc72fa1",
            "c9ab07f4ac484b4fac83799f172ae698",
            "54bf5e261eb34cf1955cdeea145a481d",
            "707ceb1bce7f4ff0ab95fabf1de70dbf",
            "e0fe394bf2774465af6e88b2035628b8",
            "699becbbe27d48539eff10bdd1877af6",
            "f858b537b4c54a67b2ffef55b6d74e9e",
            "531c9e272d39479ba8f869a4e87360b7",
            "6f5ba811619148ec8e41f65572778a1a",
            "4d3634ae2b854393ba47acd7f2c548d2",
            "4219c653ce8446e193bdbd165f87d263",
            "800514cb96e4464da9d899959491d3dd",
            "df0216c4ed584b96aa28e6dc939515be",
            "1d0663029a6f47d48213401e25afb211",
            "a231c58e320547f297977c634416d0f6",
            "4da2a1ea7a4e4ed8887c46436d004993",
            "5a65720488f94409bbd11909a4912070",
            "97310849317049628895cd337d3de1f4",
            "84ad107e127e426294ea9b8a6f05a8ce",
            "8b906bee378a4a369ef48b5a36655423",
            "b751f645ee8941d489709600484261fe",
            "0c52f05a11fe42d88455cd4b6a9f4122",
            "8532d5db5ca94471b905e56209f63935",
            "9d1001edf0f24fccb501c494f07685a6",
            "70db034324b144f4af32f77753604ade",
            "6b9469b935044a1bba9df6511c89fcf4",
            "e6ad3b3fffbd4f068bec573b8302f1af",
            "6231411e59f9472198fb43d62e4a8628",
            "36e960c170c847dfb37bc9d655b84596",
            "1f2b8b0cec6c471a9391f18fef53f394",
            "a984cc0f1d964ab49dff58ff295a339b",
            "d3c7f7b397cd45369ac4a539875d5a2b",
            "f99588488aee4dcea0a96d761db09246",
            "ee997f0e1c7d4707841fa8bacf0c2b10",
            "150f06283b0248578f5e96b4d279506d",
            "1f11358008e94d10b1d0c6cc690dd0bd",
            "ea20f32b2f304f04aca8d2bfe977f2ef",
            "7ecd3b5722ce4ae7beb70fe913fa91e0",
            "814235c8736e4e43ac0eb65f4f28feb3",
            "8a4c40917256453cbe0e8c4507838e5c",
            "762e73dca5a74ed4829bf727dcb1d324",
            "8ceab4444781451eab686f677a76f8b5",
            "f4228ed7df13409dbc4bbd0e69b477ba",
            "00086d2c4d72479ca96f571e90b5cf3e",
            "32acdbde34fb47a49b009ceaad96ca27",
            "de7b6763e22943c399b198517341d017",
            "b3422b5eb0914829bf895b08058c4394",
            "c9cc7544455c4b1b9fb943846131b8ff",
            "2aacd505897245999fe843c233a11590",
            "55f456b9a06840b3a7dd950fc72d750f",
            "11478134d84246998f93e65af63b4279",
            "9e86084cf12648d4bb108b8c1552735b",
            "f8e10058ab7143d9823606accdd24108",
            "1488a0e5b6f641a4bf35dd7b4af522a9"
          ]
        },
        "id": "LOKuLfxE7JhA",
        "outputId": "a7495c2c-9415-43fa-e26b-84e0b3f8eb87"
      },
      "execution_count": null,
      "outputs": [
        {
          "output_type": "stream",
          "name": "stderr",
          "text": [
            "No model was supplied, defaulted to sshleifer/distilbart-cnn-12-6 and revision a4f8f3e (https://huggingface.co/sshleifer/distilbart-cnn-12-6).\n",
            "Using a pipeline without specifying a model name and revision in production is not recommended.\n"
          ]
        },
        {
          "output_type": "display_data",
          "data": {
            "text/plain": [
              "Downloading (…)lve/main/config.json:   0%|          | 0.00/1.80k [00:00<?, ?B/s]"
            ],
            "application/vnd.jupyter.widget-view+json": {
              "version_major": 2,
              "version_minor": 0,
              "model_id": "f502a16510cd4f749dca6c913ceb7798"
            }
          },
          "metadata": {}
        },
        {
          "output_type": "display_data",
          "data": {
            "text/plain": [
              "Downloading pytorch_model.bin:   0%|          | 0.00/1.22G [00:00<?, ?B/s]"
            ],
            "application/vnd.jupyter.widget-view+json": {
              "version_major": 2,
              "version_minor": 0,
              "model_id": "4219c653ce8446e193bdbd165f87d263"
            }
          },
          "metadata": {}
        },
        {
          "output_type": "display_data",
          "data": {
            "text/plain": [
              "Downloading (…)okenizer_config.json:   0%|          | 0.00/26.0 [00:00<?, ?B/s]"
            ],
            "application/vnd.jupyter.widget-view+json": {
              "version_major": 2,
              "version_minor": 0,
              "model_id": "0c52f05a11fe42d88455cd4b6a9f4122"
            }
          },
          "metadata": {}
        },
        {
          "output_type": "display_data",
          "data": {
            "text/plain": [
              "Downloading (…)olve/main/vocab.json:   0%|          | 0.00/899k [00:00<?, ?B/s]"
            ],
            "application/vnd.jupyter.widget-view+json": {
              "version_major": 2,
              "version_minor": 0,
              "model_id": "f99588488aee4dcea0a96d761db09246"
            }
          },
          "metadata": {}
        },
        {
          "output_type": "display_data",
          "data": {
            "text/plain": [
              "Downloading (…)olve/main/merges.txt:   0%|          | 0.00/456k [00:00<?, ?B/s]"
            ],
            "application/vnd.jupyter.widget-view+json": {
              "version_major": 2,
              "version_minor": 0,
              "model_id": "00086d2c4d72479ca96f571e90b5cf3e"
            }
          },
          "metadata": {}
        }
      ]
    },
    {
      "cell_type": "code",
      "source": [
        "num_iters = int(len(res)/1000)\n",
        "summarized_text = []\n",
        "for i in range(0, num_iters + 1):\n",
        "  start = 0\n",
        "  start = i * 1000\n",
        "  end = (i + 1) * 1000\n",
        "  print(\"input text \\n\" + res[start:end])\n",
        "  out = summarizer(res[start:end])\n",
        "  out = out[0]\n",
        "  out = out['summary_text']\n",
        "  print(\"Summarized text\\n\"+out)\n",
        "  summarized_text.append(out)"
      ],
      "metadata": {
        "colab": {
          "base_uri": "https://localhost:8080/"
        },
        "id": "eViGC6Zc7XgU",
        "outputId": "fce51aee-d223-4cc9-e978-1c84a1d8e3e1"
      },
      "execution_count": null,
      "outputs": [
        {
          "output_type": "stream",
          "name": "stdout",
          "text": [
            "input text \n",
            " hey everyone welcome back to the channel i hope you guys are doing extremely well so in this video we are going to learn about bipartite graph and we are going to uh check if a graph is bipartite or not using the dfs algorithm which is the depth first search now what is the definition of a bipartite graph given a graph a graph that can be colored with exactly two colors exactly two colors such that no two adjacent nodes have the same color very very important you are given two colors you need to use those two colors to color a graph such that no two adjacent nodes have the same color very very important the two colors can be anything black white yellow green or whatever so let's take yellow and green now if i take this particular graph and try to color it so yellow obviously this is the adjacent node we cannot color it with yellow because yellow and yellow will have two adjacent nodes thereby we have to give it the opposite color green then the next one will definitely have the opposi\n",
            "Summarized text\n",
            " The definition of a bipartite graph is a graph that can be colored with exactly two colors such that no two adjacent nodes have the same color . The two colors can be anything black white yellow yellow green or whatever so let's take yellow and green now if i take this particular graph and try to color it so yellow obviously this is the adjacent node we cannot color it with yellow because yellow and yellow will have two adjacent .\n",
            "input text \n",
            "te yellow then the next one will have green the next one will have yellow the next one will have green right so if you see all of them are opposite and none of the adjacent nodes are having the same color now if we if we go this direction this will be given a yellow if we go the other this will be green again this will be yellow if you see the entire graph i took two colors yellow and green and i was able to color the graph in two different colors and if you carefully see every two adjacent notes yes every two adjacent notes are having different colors yes every two adjacent notes are having different color but if i take this particular graph so what i can say is this graph is a bipartite graphics i can call this graph as a bipartite graph at the same time if i check this out and i take the same color yellow and green yellow obviously the adjacent will be opposite green yellow green yellow green this is green so this will be yellow this is yellow so this will be green so if i follow th\n",
            "Summarized text\n",
            " Every two adjacent notes are having different colors in a bipartite graph . If you see the entire graph all of them are opposite and none of the adjacent nodes are having the same color now if we if we go this direction this will be given a yellow . If we go the other this . will be green again this will . be yellow again and if i follow th. te yellow then the next one will have green . the next . one has yellow . the other has yellow and green .\n",
            "input text \n",
            "is these two adjacent nodes are having different colors but at the same time if you see these uh these two adjacent nodes are having green color so thereby this graph cannot be colored you can try any other possibilities this graph cannot be colored with two colors because you will end up either having this or this same colors now the reason for that is very simple because it was a even lens cycle sorry odd length one two three four five if you uh see the length of the cycle it was odd so if a graph has a odd length cycle it will never be viper tight remember this if a graph has odd length cycle then it cannot be bipartite apart from that if you see this one one two three four five six so the length of this is six and if i see this is an even length this is an even length and this is a bipartite graphics and this is a bipartite graph similarly any linear length graph any linear length like if you give something like this and like this and like this then like this this is a bipartite be\n",
            "Summarized text\n",
            " This graph cannot be colored with two colors because you will end up either having this or this same colors now the reason for that is very simple because it was a even lens cycle sorry odd length one two three four five if you uh see the length of the cycle it was odd so if a graph has a odd length cycle it will never be viper tight remember this .\n",
            "input text \n",
            "cause you can grow like blue green blue green you can color it so anything apart from a like any graph which does not contain an odd lens cycle are bipartite and any graph that contains the order cycle cannot be bipartite a simple definition of the bipartite graph so we will be taking this graph and the algorithm that we will be applying is dfs you know every graph can be represented in terms of adjacency list so this is the particular adjacency list for the graph and we are assuming that this graph has one component if we are able to solve it for one component we can definitely solve it for multiple components right now in dfs algorithm we always have a start node so we can assume the start node to be one you can take it to be eight you can take it to be four whichever you wish to and we always have a visited matrix uh sorry visited array but over here what we will do is we will take a color array and of the same size of the number of notes and we will make sure everyone is initially \n",
            "Summarized text\n",
            " The algorithm that we will be applying is dfs you know every graph can be represented in terms of adjacency list . We are assuming that this graph has one component and we are able to solve it for one component . Any graph that does not contain an odd lens cycle are bipartite .\n",
            "input text \n",
            "colored with -1 which means none of the notes are colored and the colors that we will use to color the notes are 0 and 1 these can be like yellow and green so 0 and one so this is the graph so initially what you do is you call the dfs function yes initially you call the dfs function from one right and the moment you call it from one just make sure like you can just have it something like this you can pass the color that you want to color it with and pass the color zero so dfs of one zero so the so the moment the call comes in for dfs of one and the color zero it goes to the position one and says can you color it with the color zero and he's like yeah fine i can color it with the color zero so we have done it and now what we will see is who are the adjacent notes of one and we see that there is only one so what you do is you call it for two yes you call it for two now is two colored two is not colored so you call it for 2 and which color will you give to it'll obviously give the opposit\n",
            "Summarized text\n",
            " The colors that we will use to color the notes are 0 and 1 these can be like yellow and green so 0 and one so this is the graph . colored with -1 which means none of the . notes are colored and the colors that . we will . use are 0, 1 and 1 and the . color zero so dfs of one zero is called dfs and the color zero goes to the position one and says can you color it with the color .\n",
            "input text \n",
            "e color to what was of zero so you'll give it the opposite color which is one so you get the opposite color that is one so as of may you'll go to two so you'll have a color one so let's color it with one now you go to two and what the adjacent notes the first adjacent node is one and you see that it is already colored with the color zero right and this was colored with color one so it's an adjacent node and it is colored with a different color so that is okay it is already colored with a different color so i will not go there and the next is three so i see the next is three so what i'll do is i will go to three and i'll give it the opposite color and what is the opposite color zero so now you go to three and you say the color is zero and have it a color zero perfect so dfs call for three comes in and the first node that it sees is two so three sees that the first adjacent node is two as checks that okay my color is zero and the adjacent colors is one so it is perfect but it is already \n",
            "Summarized text\n",
            " e color to what was of zero so you'll give it the opposite color which is one so you get the opposite that is one . As of may you'll go to two and what the adjacent notes the first adjacent node is one and you see that it is already colored with the color zero right and this was colored with color one .\n",
            "input text \n",
            "colored so i will not go and visit it perfect next we have a 4 and we see that it is not colored so what we will do is we will have a dfs call for 4 with the opposite color which is 1 so 4 will be colored with one now perfect next we have a dfs four and dfs four has a three dfs four has a three and the four has a color one and the three has a color zero it has an opposite color but it has been already colored so i will not go here the next adjacent node is five and the next is seven so probably uh let's go for seven first and then we can go for five just to uh have a better understanding of the dfs i'll go i'll just change it over here we'll have seven first and then five so the next node is seven so what i will do is i will now go to dfs of seven with the color zero and when i come back then i'll go to the dfs of five with the color zero because this is color one so we'll go to color zero this is color one so it'll go to color zero so dfs of four says i'll go to seven with the color z\n",
            "Summarized text\n",
            " The next adjacent node is five and the next is seven so probably uh let's go for seven first and then we can go for five just to have a better understanding of the dfs i'll go i'll just change it over here we'll have seven first, then five so the next node is seven .\n",
            "input text \n",
            "ero it's like fine go to seven with the color zero right and now 7 says i have 4 which is already colored and i have 8 which is not color so please go to 8 and color it with the opposite color it's a dfs of 8 with a color 1 so 8 goes and colors that with color one by the way just make sure you make mark the colors perfect now eight says i just have one guy seven eight says i just have one guy seven and that guy is already colored with zero which is my opposite color so that's okay so 8 says i do not have any further notes 8 says i do not have any further notes so what a does is 8 says fine from my end i did not have any problem i came up to 8 and i did not find any problem to color the graph with only two colors i had absolutely no problem so please go back so it will go back seven says okay fine my job is done because i don't have any further just notes go back now four says i had a call for seven which is over and they did not find any problem so i will now go for five perfect now i \n",
            "Summarized text\n",
            " ero it's like fine go to seven with the color zero right and now 7 says i have 4 which is already colored and i have 8 which is not color so please go to 8 and color it with the opposite color it's a dfs of 8 with a color 1 so 8 goes and colors that with color one by the way just make sure you make mark the colors perfect now 8 says i do not have any further notes .\n",
            "input text \n",
            "will go for five so you realize there was one node which got completed then you do the dfs for five now we will go for five so what will happen is you'll go to five and you'll have a color zero the five sees okay i have a color zero now when you come to five five has the adjacent node as four which is already colored with color one that's perfect opposite color and a five has a six so we will go to six now let's go to six so we will go to six with the opposite color of one so we go and mark it as one we mark this as one perfect now we are at six so six says my first adjacent node is two very important six says my first adjacent node is two and i see it's already colored but dude wait it has been colored with the same color it has been colored with the same color i got an adjacent note i got an adjacent node with the same colour that means it is a bipartite yes sorry that means it is not a bipartite it cannot be colored so six is hey when i was checking for two when i was checking for t\n",
            "Summarized text\n",
            " Five has the adjacent node as four which is already colored with color one that's perfect opposite color and a five has a six so we will go to six with the opposite color of one so we go and mark it as one perfect now we are at six so six says my first adjacent node is two .\n",
            "input text \n",
            "wo it has the same color as i do have so it is not a wiper type he says hey can you please return false so this dfs is i called for sex that guy is saying me i cannot be bipartite so i also cannot be bipartite so he returns a false now the four says i called dfs of five and that guy says he cannot be bipartite so be like i also cannot be bipartite the three says i called four so i cannot be viper tight two says i call three so i cannot be bipartite one says i call two and he says paul so i say false so everyone says false so ultimately you get the reason or you get the validation as false that this is not a piper type i hope that makes sense now if you would have done a normal dfs where you would have let's say take this graph super simple so what would have happened was you'd have gone dfs of one color zero and then you would have gone dfs of two color one they would have gone for dfs of three color zero and then there was no other notes so apparently this guy would have returned true\n",
            "Summarized text\n",
            " This is not a wiper type he says hey can you please return false so this dfs is i called for sex . The four says i called dfs of five and that guy says he cannot be bipartite so he returns a false . The three says i call four so i cannot be viper tight. the three says  so i can't be vipers tight. Two says they call three so i call three . One says he calls two and he says paul so i say false so i says false .\n",
            "input text \n",
            " and this guy would have said i did not find false so return true this guy would have said i did not find false so return true so apparently you would have got true so unless and until very important unless and until you don't get a false do not return a false if you're getting a false which means the adjacent node color should be equal to this guy's color this guy's color right that is what you need to do so now what i'll do is i'll super quickly code this up so it's time to code it up c plus plus code on the right and the java code on the left so we're given v and we're given adjacency list so what we wrote was for a single like the logic that we debugged was for a single component so we're gonna write this for multiple components okay perfect next please run a loop and make sure everyone yes every one is marked as something as minus one but done now what's the next thing that you'll do you'll run it for components so you know how to run it for components connected components number \n",
            "Summarized text\n",
            " The logic that we debugged was for a single component so we're gonna write this for multiple components okay perfect next please run a loop and make sure everyone yes every one is marked as something as minus one but done now what's the next thing that you'll do you'll run it for components .\n",
            "input text \n",
            "of provinces question if you haven't seen it please go back and check it out so visit it off sorry it's instead of visited this time we'll say color of i equal to minus one right and what we will do is we will call the dfs and we will ask the dfs hey this is i start with color zero take the color array and take the adjacency okay and if you return a false then i guess it's not an appetite if you return a false if this dfs i said you if any of the defense returns or false it cannot be a byproduct if none of them do it's a true perfect done now we just need to write the bfs which is kind of simple we just need to write boolean dfs ind node id color which color is it carrying and the vector of adjacency now what we will do we'll always color the node with the given color so please do it now we know these are the adjacency notes so go and run it for the adjacency notes and you check is this previously not colored if this is previously not colored you say okay please go and color it with th\n",
            "Summarized text\n",
            " of provinces question if you haven't seen it please go back and check it out so visit it off . Visit it off sorry it's instead of visited this time we'll say color of i equal to minus one right and what we will do is we will call the dfs . We just need to write the bfs which is kind of simple . We need to use a simple dfs ind node id color which color is it carrying and the vector of adjacency .\n",
            "input text \n",
            "e opposite color of the color that i have but if this is previously colored this adjacent node is previously colored very very important if this adjacent node is previously colored and is having the same color as i have or you can say call if it is if it is then i say it cannot be of bipartite or if you have travis for all the adjusted notes and you never found out any false you get a true so this is a dfs call as i said if any of the dfs calls return or false because this call might return or false might then you say cannot be a hypertype if this dfs call returns or false don't need to check by any of the notes you cannot color it so this is how you can easily write so what i'll do is i'll now quickly compile this on so now let's discuss the time complexity and the space complexity which algorithm are we using we're using a simple tfs algorithm assuming that the graph is bipartite and you can color it then it's a simple traversal algorithm so the time complexity and the space complexi\n",
            "Summarized text\n",
            " The time complexity and the space complexity are we using we're using a simple tfs algorithm assuming that the graph is bipartite and you can color it then it's a simple traversal algorithm . i'll do is i'll now quickly compile this on so now let's discuss the time complexity .\n",
            "input text \n",
            "ty will be similar to what we used in dfs algorithm which is b go of v plus 2 e which is the time complexity and the space that we are using is the color array which is b co of v so guys i hope i was able to explain you this particular problem so just in case i was please please hit that like button and if you're new to our channel what are you waiting for i think you should hit that subscribe button right away and if you haven't checked out our dp series and the sd sheet the links are in the description please make sure you check it out and with this i'll be wrapping up this video let's meet in some other video till then go bye take care whenever your heart is broken [Music]\n",
            "Summarized text\n",
            " Ty will be similar to what we used in dfs algorithm which is b go of v plus 2 e which is the time complexity and the space that we are using is the color array which is a b co of v so just in case i was able to explain you this particular problem . If you're new to our channel what are you waiting for i think you should hit that subscribe button right away .\n"
          ]
        }
      ]
    },
    {
      "cell_type": "code",
      "source": [
        "len(str(summarized_text))"
      ],
      "metadata": {
        "colab": {
          "base_uri": "https://localhost:8080/"
        },
        "id": "P2WPPaQR8CZL",
        "outputId": "a1e2d2c6-f65e-437e-b6c4-1579b26fb2ea"
      },
      "execution_count": null,
      "outputs": [
        {
          "output_type": "execute_result",
          "data": {
            "text/plain": [
              "4919"
            ]
          },
          "metadata": {},
          "execution_count": 17
        }
      ]
    },
    {
      "cell_type": "code",
      "source": [
        "str(summarized_text)"
      ],
      "metadata": {
        "colab": {
          "base_uri": "https://localhost:8080/",
          "height": 562
        },
        "id": "gCH-a7-r8LCd",
        "outputId": "8d43f0eb-5762-45b1-e277-8bc691e324b7"
      },
      "execution_count": null,
      "outputs": [
        {
          "output_type": "execute_result",
          "data": {
            "text/plain": [
              "'[\" The definition of a bipartite graph is a graph that can be colored with exactly two colors such that no two adjacent nodes have the same color . The two colors can be anything black white yellow yellow green or whatever so let\\'s take yellow and green now if i take this particular graph and try to color it so yellow obviously this is the adjacent node we cannot color it with yellow because yellow and yellow will have two adjacent .\", \\' Every two adjacent notes are having different colors in a bipartite graph . If you see the entire graph all of them are opposite and none of the adjacent nodes are having the same color now if we if we go this direction this will be given a yellow . If we go the other this . will be green again this will . be yellow again and if i follow th. te yellow then the next one will have green . the next . one has yellow . the other has yellow and green .\\', \\' This graph cannot be colored with two colors because you will end up either having this or this same colors now the reason for that is very simple because it was a even lens cycle sorry odd length one two three four five if you uh see the length of the cycle it was odd so if a graph has a odd length cycle it will never be viper tight remember this .\\', \\' The algorithm that we will be applying is dfs you know every graph can be represented in terms of adjacency list . We are assuming that this graph has one component and we are able to solve it for one component . Any graph that does not contain an odd lens cycle are bipartite .\\', \\' The colors that we will use to color the notes are 0 and 1 these can be like yellow and green so 0 and one so this is the graph . colored with -1 which means none of the . notes are colored and the colors that . we will . use are 0, 1 and 1 and the . color zero so dfs of one zero is called dfs and the color zero goes to the position one and says can you color it with the color .\\', \" e color to what was of zero so you\\'ll give it the opposite color which is one so you get the opposite that is one . As of may you\\'ll go to two and what the adjacent notes the first adjacent node is one and you see that it is already colored with the color zero right and this was colored with color one .\", \" The next adjacent node is five and the next is seven so probably uh let\\'s go for seven first and then we can go for five just to have a better understanding of the dfs i\\'ll go i\\'ll just change it over here we\\'ll have seven first, then five so the next node is seven .\", \" ero it\\'s like fine go to seven with the color zero right and now 7 says i have 4 which is already colored and i have 8 which is not color so please go to 8 and color it with the opposite color it\\'s a dfs of 8 with a color 1 so 8 goes and colors that with color one by the way just make sure you make mark the colors perfect now 8 says i do not have any further notes .\", \" Five has the adjacent node as four which is already colored with color one that\\'s perfect opposite color and a five has a six so we will go to six with the opposite color of one so we go and mark it as one perfect now we are at six so six says my first adjacent node is two .\", \" This is not a wiper type he says hey can you please return false so this dfs is i called for sex . The four says i called dfs of five and that guy says he cannot be bipartite so he returns a false . The three says i call four so i cannot be viper tight. the three says  so i can\\'t be vipers tight. Two says they call three so i call three . One says he calls two and he says paul so i say false so i says false .\", \" The logic that we debugged was for a single component so we\\'re gonna write this for multiple components okay perfect next please run a loop and make sure everyone yes every one is marked as something as minus one but done now what\\'s the next thing that you\\'ll do you\\'ll run it for components .\", \" of provinces question if you haven\\'t seen it please go back and check it out so visit it off . Visit it off sorry it\\'s instead of visited this time we\\'ll say color of i equal to minus one right and what we will do is we will call the dfs . We just need to write the bfs which is kind of simple . We need to use a simple dfs ind node id color which color is it carrying and the vector of adjacency .\", \" The time complexity and the space complexity are we using we\\'re using a simple tfs algorithm assuming that the graph is bipartite and you can color it then it\\'s a simple traversal algorithm . i\\'ll do is i\\'ll now quickly compile this on so now let\\'s discuss the time complexity .\", \" Ty will be similar to what we used in dfs algorithm which is b go of v plus 2 e which is the time complexity and the space that we are using is the color array which is a b co of v so just in case i was able to explain you this particular problem . If you\\'re new to our channel what are you waiting for i think you should hit that subscribe button right away .\"]'"
            ],
            "application/vnd.google.colaboratory.intrinsic+json": {
              "type": "string"
            }
          },
          "metadata": {},
          "execution_count": 18
        }
      ]
    }
  ]
}